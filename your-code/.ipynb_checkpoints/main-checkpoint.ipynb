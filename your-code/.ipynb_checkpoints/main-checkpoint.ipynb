{
 "cells": [
  {
   "cell_type": "markdown",
   "metadata": {},
   "source": [
    "# Challenge: Rick and Morty API\n",
    "\n",
    "![](http://as01.epimg.net/epik/imagenes/2019/02/12/portada/1549970850_227267_1549973816_noticia_normal.jpg)\n",
    "\n",
    "\n",
    "**In this challenge, you'll develop codes to parse and analyze data returned from the [Rick and Morty API](https://rickandmortyapi.com/).** The workflow is almost the same as in the guided lesson but you'll work with different data."
   ]
  },
  {
   "cell_type": "markdown",
   "metadata": {},
   "source": [
    "## Obtaining the link\n",
    "\n",
    "Wrote your codes in the cell below to obtain the data from the API endpoint you choose. A recap of the workflow:\n",
    "\n",
    "1. Examine the webpages and choose one that you want to work with.\n",
    "\n",
    "1. Use Google Chrome's DevTools to inspect the XHR network requests. Find out the API endpoint that serves data to the webpage.\n",
    "\n",
    "1. Test the API endpoint in the browser to verify its data.\n",
    "\n",
    "1. Change the page number offset of the API URL to test if it's working."
   ]
  },
  {
   "cell_type": "code",
   "execution_count": 1,
   "metadata": {},
   "outputs": [],
   "source": [
    "# Your code here\n"
   ]
  },
  {
   "cell_type": "markdown",
   "metadata": {},
   "source": [
    "## Reading the data\n",
    "\n",
    "In the next cell, use Python to obtain data from the API endpoint you chose in the previous step. Workflow:\n",
    "\n",
    "1. Import libraries.\n",
    "\n",
    "1. Define the initial API endpoint URL.\n",
    "\n",
    "1. Make request to obtain data of the 1st page. Flatten the data and store it in an empty object variable.\n",
    "\n",
    "1. Find out the total page count in the 1st page data.\n",
    "\n",
    "1. Use a FOR loop to make requests for the additional pages from 2 to page count. Append the data of each additional page to the flatterned data object.\n",
    "\n",
    "1. Print and review the data you obtained."
   ]
  },
  {
   "cell_type": "code",
   "execution_count": 2,
   "metadata": {},
   "outputs": [],
   "source": [
    "import json\n",
    "import requests\n",
    "import pandas as pd\n",
    "from pandas.io.json import json_normalize\n",
    "from urllib.request import urlopen"
   ]
  },
  {
   "cell_type": "code",
   "execution_count": 3,
   "metadata": {},
   "outputs": [
    {
     "data": {
      "text/plain": [
       "{'characters': 'https://rickandmortyapi.com/api/character',\n",
       " 'locations': 'https://rickandmortyapi.com/api/location',\n",
       " 'episodes': 'https://rickandmortyapi.com/api/episode'}"
      ]
     },
     "execution_count": 3,
     "metadata": {},
     "output_type": "execute_result"
    }
   ],
   "source": [
    "# Your code here\n",
    "url = 'https://rickandmortyapi.com/api'\n",
    "res = requests.get(url)\n",
    "res_json = res.json()\n",
    "res_json"
   ]
  },
  {
   "cell_type": "markdown",
   "metadata": {},
   "source": [
    "### 1.- Character"
   ]
  },
  {
   "cell_type": "code",
   "execution_count": 4,
   "metadata": {},
   "outputs": [
    {
     "ename": "SyntaxError",
     "evalue": "invalid syntax (<ipython-input-4-60867015ebe0>, line 13)",
     "output_type": "error",
     "traceback": [
      "\u001b[0;36m  File \u001b[0;32m\"<ipython-input-4-60867015ebe0>\"\u001b[0;36m, line \u001b[0;32m13\u001b[0m\n\u001b[0;31m    characters_df.head(5i)\u001b[0m\n\u001b[0m                        ^\u001b[0m\n\u001b[0;31mSyntaxError\u001b[0m\u001b[0;31m:\u001b[0m invalid syntax\n"
     ]
    }
   ],
   "source": [
    "# Your code here\n",
    "\n",
    "page = 1\n",
    "characters_df = pd.DataFrame()\n",
    "\n",
    "while page < 35:\n",
    "    characters_url = f'https://rickandmortyapi.com/api/character/?page={page}'\n",
    "    characters_res = requests.get(characters_url)\n",
    "    characters_res_json = characters_res.json()\n",
    "    characters_df = characters_df.append(pd.json_normalize(characters_res_json['results']))\n",
    "    page = page + 1\n",
    "\n",
    "characters_df.head(5)"
   ]
  },
  {
   "cell_type": "markdown",
   "metadata": {},
   "source": [
    "### 2.- Locations"
   ]
  },
  {
   "cell_type": "code",
   "execution_count": null,
   "metadata": {},
   "outputs": [],
   "source": [
    "# Your code here\n",
    "\n",
    "page = 1\n",
    "location_df = pd.DataFrame()\n",
    "\n",
    "while page < 7:\n",
    "    location_url = f'https://rickandmortyapi.com/api/location?page={page}'\n",
    "    location_res = requests.get(location_url)\n",
    "    location_res_json = location_res.json()\n",
    "    location_df = location_df.append(pd.DataFrame(location_res_json['results']))\n",
    "    page = page + 1\n",
    "\n",
    "location_df.head(5)\n",
    "location_df.describe()"
   ]
  },
  {
   "cell_type": "markdown",
   "metadata": {},
   "source": [
    "### 3.- Episodes"
   ]
  },
  {
   "cell_type": "code",
   "execution_count": null,
   "metadata": {},
   "outputs": [],
   "source": [
    "# Your code here\n",
    "\n",
    "page = 1\n",
    "episode_df = pd.DataFrame()\n",
    "\n",
    "while page < 4:\n",
    "    episode_url = f'https://rickandmortyapi.com/api/episode?page={page}'\n",
    "    episode_res = requests.get(episode_url)\n",
    "    episode_res_json = episode_res.json()\n",
    "    episode_df = episode_df.append(pd.DataFrame(episode_res_json['results']))\n",
    "    page = page + 1\n",
    "\n",
    "episode_df.head(5)"
   ]
  },
  {
   "cell_type": "markdown",
   "metadata": {},
   "source": [
    "## Bonus\n",
    "\n",
    "Extract the following information from the data:\n",
    "\n",
    "* The character who appeared in most episodes (aside from Rick and Morty, of course!).\n",
    "\n",
    "* The total number of dead characters.\n",
    "\n",
    "* A list of all character origins (without duplicates)."
   ]
  },
  {
   "cell_type": "code",
   "execution_count": null,
   "metadata": {},
   "outputs": [],
   "source": [
    "# Your code here\n",
    "chrctr_w_most_appearances = pd.DataFrame(characters_df.groupby(['name']).episode.count()).sort_values(by=['episode'], ascending=False)\n",
    "chrctr_w_most_appearances = chrctr_w_most_appearances.drop(index=['Rick Sanchez', 'Morty Smith']).head(1).rename(columns={\"episode\": \"n_of_appearances\"})\n",
    "chrctr_w_most_appearances"
   ]
  },
  {
   "cell_type": "code",
   "execution_count": null,
   "metadata": {},
   "outputs": [],
   "source": [
    "total_number_of_deaths = pd.DataFrame(characters_df.groupby(['status']).id.count()).rename(columns={\"id\": \"count\"})\n",
    "total_number_of_deaths"
   ]
  },
  {
   "cell_type": "code",
   "execution_count": null,
   "metadata": {},
   "outputs": [],
   "source": [
    "chrctr_origin = characters_df[['name', 'origin.name']].drop_duplicates()\n",
    "chrctr_origin"
   ]
  }
 ],
 "metadata": {
  "kernelspec": {
   "display_name": "Python 3",
   "language": "python",
   "name": "python3"
  },
  "language_info": {
   "codemirror_mode": {
    "name": "ipython",
    "version": 3
   },
   "file_extension": ".py",
   "mimetype": "text/x-python",
   "name": "python",
   "nbconvert_exporter": "python",
   "pygments_lexer": "ipython3",
   "version": "3.9.5"
  }
 },
 "nbformat": 4,
 "nbformat_minor": 2
}
