{
 "cells": [
  {
   "cell_type": "markdown",
   "metadata": {},
   "source": [
    "# Challenge: Rick and Morty API\n",
    "\n",
    "![](http://as01.epimg.net/epik/imagenes/2019/02/12/portada/1549970850_227267_1549973816_noticia_normal.jpg)\n",
    "\n",
    "\n",
    "**In this challenge, you'll develop codes to parse and analyze data returned from the [Rick and Morty API](https://rickandmortyapi.com/).** The workflow is almost the same as in the guided lesson but you'll work with different data."
   ]
  },
  {
   "cell_type": "markdown",
   "metadata": {},
   "source": [
    "## Obtaining the link\n",
    "\n",
    "Wrote your codes in the cell below to obtain the data from the API endpoint you choose. A recap of the workflow:\n",
    "\n",
    "1. Examine the webpages and choose one that you want to work with.\n",
    "\n",
    "1. Use Google Chrome's DevTools to inspect the XHR network requests. Find out the API endpoint that serves data to the webpage.\n",
    "\n",
    "1. Test the API endpoint in the browser to verify its data.\n",
    "\n",
    "1. Change the page number offset of the API URL to test if it's working."
   ]
  },
  {
   "cell_type": "code",
   "execution_count": 1,
   "metadata": {},
   "outputs": [],
   "source": [
    "import requests\n",
    "import pandas as pd"
   ]
  },
  {
   "cell_type": "code",
   "execution_count": 2,
   "metadata": {},
   "outputs": [
    {
     "data": {
      "text/plain": [
       "200"
      ]
     },
     "execution_count": 2,
     "metadata": {},
     "output_type": "execute_result"
    }
   ],
   "source": [
    "url= 'https://rickandmortyapi.com/api/character/333'\n",
    "res= requests.get(url)\n",
    "res.status_code"
   ]
  },
  {
   "cell_type": "markdown",
   "metadata": {},
   "source": [
    "## Reading the data\n",
    "\n",
    "In the next cell, use Python to obtain data from the API endpoint you chose in the previous step. Workflow:\n",
    "\n",
    "1. Import libraries.\n",
    "\n",
    "1. Define the initial API endpoint URL.\n",
    "\n",
    "1. Make request to obtain data of the 1st page. Flatten the data and store it in an empty object variable.\n",
    "\n",
    "1. Find out the total page count in the 1st page data.\n",
    "\n",
    "1. Use a FOR loop to make requests for the additional pages from 2 to page count. Append the data of each additional page to the flatterned data object.\n",
    "\n",
    "1. Print and review the data you obtained."
   ]
  },
  {
   "cell_type": "code",
   "execution_count": null,
   "metadata": {},
   "outputs": [],
   "source": [
    "import requests\n",
    "import pandas as pd                                              #1"
   ]
  },
  {
   "cell_type": "code",
   "execution_count": 3,
   "metadata": {},
   "outputs": [
    {
     "data": {
      "text/plain": [
       "826"
      ]
     },
     "execution_count": 3,
     "metadata": {},
     "output_type": "execute_result"
    }
   ],
   "source": [
    "initial_api= 'https://rickandmortyapi.com/api/character/'        #2\n",
    "res= requests.get(initial_api)                                   #3\n",
    "res_json= res.json()\n",
    "total= res_json['info']['count']                                 #4\n",
    "total"
   ]
  },
  {
   "cell_type": "code",
   "execution_count": 4,
   "metadata": {},
   "outputs": [],
   "source": [
    "initial_api= 'https://rickandmortyapi.com/api/character/'         #2\n",
    "\n",
    "lista_info=[]\n",
    "for char in range(1,total+1):\n",
    "    res=requests.get(initial_api+str(char))\n",
    "    info=res.json()\n",
    "    a= info['name']\n",
    "    b= len(info['episode'])\n",
    "    c= info['status'] # Death character\n",
    "    d= info['origin']['name'] # origen\n",
    "    lista_info.append((a,b,c, d))                                  #5\n",
    "\n"
   ]
  },
  {
   "cell_type": "code",
   "execution_count": 5,
   "metadata": {},
   "outputs": [
    {
     "data": {
      "text/html": [
       "<div>\n",
       "<style scoped>\n",
       "    .dataframe tbody tr th:only-of-type {\n",
       "        vertical-align: middle;\n",
       "    }\n",
       "\n",
       "    .dataframe tbody tr th {\n",
       "        vertical-align: top;\n",
       "    }\n",
       "\n",
       "    .dataframe thead th {\n",
       "        text-align: right;\n",
       "    }\n",
       "</style>\n",
       "<table border=\"1\" class=\"dataframe\">\n",
       "  <thead>\n",
       "    <tr style=\"text-align: right;\">\n",
       "      <th></th>\n",
       "      <th>Personaje</th>\n",
       "      <th>Total de Episodios</th>\n",
       "      <th>Status</th>\n",
       "      <th>Origen</th>\n",
       "    </tr>\n",
       "  </thead>\n",
       "  <tbody>\n",
       "    <tr>\n",
       "      <th>0</th>\n",
       "      <td>Rick Sanchez</td>\n",
       "      <td>51</td>\n",
       "      <td>Alive</td>\n",
       "      <td>Earth (C-137)</td>\n",
       "    </tr>\n",
       "    <tr>\n",
       "      <th>1</th>\n",
       "      <td>Morty Smith</td>\n",
       "      <td>51</td>\n",
       "      <td>Alive</td>\n",
       "      <td>unknown</td>\n",
       "    </tr>\n",
       "    <tr>\n",
       "      <th>2</th>\n",
       "      <td>Summer Smith</td>\n",
       "      <td>42</td>\n",
       "      <td>Alive</td>\n",
       "      <td>Earth (Replacement Dimension)</td>\n",
       "    </tr>\n",
       "    <tr>\n",
       "      <th>3</th>\n",
       "      <td>Beth Smith</td>\n",
       "      <td>42</td>\n",
       "      <td>Alive</td>\n",
       "      <td>Earth (Replacement Dimension)</td>\n",
       "    </tr>\n",
       "    <tr>\n",
       "      <th>4</th>\n",
       "      <td>Jerry Smith</td>\n",
       "      <td>39</td>\n",
       "      <td>Alive</td>\n",
       "      <td>Earth (Replacement Dimension)</td>\n",
       "    </tr>\n",
       "  </tbody>\n",
       "</table>\n",
       "</div>"
      ],
      "text/plain": [
       "      Personaje  Total de Episodios Status                         Origen\n",
       "0  Rick Sanchez                  51  Alive                  Earth (C-137)\n",
       "1   Morty Smith                  51  Alive                        unknown\n",
       "2  Summer Smith                  42  Alive  Earth (Replacement Dimension)\n",
       "3    Beth Smith                  42  Alive  Earth (Replacement Dimension)\n",
       "4   Jerry Smith                  39  Alive  Earth (Replacement Dimension)"
      ]
     },
     "execution_count": 5,
     "metadata": {},
     "output_type": "execute_result"
    }
   ],
   "source": [
    "newcol=['Personaje','Total de Episodios', 'Status', 'Origen']\n",
    "df= pd.DataFrame(lista_info)                                       #6\n",
    "df.columns=newcol\n",
    "df.head()\n"
   ]
  },
  {
   "cell_type": "markdown",
   "metadata": {},
   "source": [
    "## Bonus\n",
    "\n",
    "Extract the following information from the data:\n",
    "\n",
    "1. The character who appeared in most episodes (aside from Rick and Morty, of course!).\n",
    "\n",
    "2. The total number of dead characters.\n",
    "\n",
    "3.  A list of all character origins (without duplicates)."
   ]
  },
  {
   "cell_type": "code",
   "execution_count": 26,
   "metadata": {},
   "outputs": [
    {
     "data": {
      "text/html": [
       "<div>\n",
       "<style scoped>\n",
       "    .dataframe tbody tr th:only-of-type {\n",
       "        vertical-align: middle;\n",
       "    }\n",
       "\n",
       "    .dataframe tbody tr th {\n",
       "        vertical-align: top;\n",
       "    }\n",
       "\n",
       "    .dataframe thead th {\n",
       "        text-align: right;\n",
       "    }\n",
       "</style>\n",
       "<table border=\"1\" class=\"dataframe\">\n",
       "  <thead>\n",
       "    <tr style=\"text-align: right;\">\n",
       "      <th></th>\n",
       "      <th>Personaje</th>\n",
       "      <th>Total de Episodios</th>\n",
       "      <th>Status</th>\n",
       "      <th>Origen</th>\n",
       "    </tr>\n",
       "  </thead>\n",
       "  <tbody>\n",
       "    <tr>\n",
       "      <th>2</th>\n",
       "      <td>Summer Smith</td>\n",
       "      <td>42</td>\n",
       "      <td>Alive</td>\n",
       "      <td>Earth (Replacement Dimension)</td>\n",
       "    </tr>\n",
       "    <tr>\n",
       "      <th>3</th>\n",
       "      <td>Beth Smith</td>\n",
       "      <td>42</td>\n",
       "      <td>Alive</td>\n",
       "      <td>Earth (Replacement Dimension)</td>\n",
       "    </tr>\n",
       "  </tbody>\n",
       "</table>\n",
       "</div>"
      ],
      "text/plain": [
       "      Personaje  Total de Episodios Status                         Origen\n",
       "2  Summer Smith                  42  Alive  Earth (Replacement Dimension)\n",
       "3    Beth Smith                  42  Alive  Earth (Replacement Dimension)"
      ]
     },
     "execution_count": 26,
     "metadata": {},
     "output_type": "execute_result"
    }
   ],
   "source": [
    "#1\n",
    "new_df = df[2:0] #aside form rick and morty\n",
    "all_chap = new_df.loc[:, 'Total de Episodios'] == new_df['Total de Episodios'].max()\n",
    "max_chap = new_df.loc[all_chap]\n",
    "max_chap"
   ]
  },
  {
   "cell_type": "code",
   "execution_count": 28,
   "metadata": {},
   "outputs": [
    {
     "name": "stdout",
     "output_type": "stream",
     "text": [
      "\n",
      "Total de muertos:  287\n"
     ]
    }
   ],
   "source": [
    "#2\n",
    "death=0\n",
    "for i in df['Status']:\n",
    "    if i=='Dead':\n",
    "        death+=1\n",
    "print(\"\\nTotal de muertos: \", death)\n"
   ]
  },
  {
   "cell_type": "code",
   "execution_count": 29,
   "metadata": {},
   "outputs": [
    {
     "name": "stdout",
     "output_type": "stream",
     "text": [
      "\n",
      "Lista de origenes sin duplicados {'Nuptia 4', 'The Menagerie', 'Mr. Meeseeks Box', 'Ferkus 9', 'Earth (K-22)', 'Earth (K-83)', 'Ricks’s Story', 'Glorzo Asteroid', 'Earth (Phone Dimension)', 'Girvonesk', 'Mega Gargantuan Kingdom', 'Plitzville Montana', \"Kyle's Teenyverse\", 'Earth (D716-C)', 'Tickets Please Guy Nightmare', 'Earth (Unknown dimension)', \"Mr. Goldenfold's dream\", 'Normal Size Bug Dimension', 'Bepis 9', 'Gramuflack', 'Earth (Chair Dimension)', 'Earth (Replacement Dimension)', 'Morty', 'Gear World', 'Glaagablaaga', 'Krootabulon', 'Mount Olympus', 'Resort Planet', 'Earth (Fascist Dimension)', 'Alphabetrium', \"Snuffles' Dream\", 'Space Tahoe', \"Rick's Battery Microverse\", 'The Ocean', 'Draygon', 'Gazorpazorp', 'Snake Planet', \"Zeep Xanflorp's Miniverse\", 'Earth (Pizza Dimension)', 'Post-Apocalyptic Earth', 'Avian Planet', \"Unity's Planet\", 'Earth (D716)', \"Earth (Evil Rick's Target Dimension)\", 'Earth (D716-B)', \"Larva Alien's Planet\", 'Citadel of Ricks', 'Signus 5 Expanse', 'Interdimensional Cable', 'Earth (D-99)', 'Earth (Giant Telepathic Spiders Dimension)', 'Earth (Tusk Dimension)', 'Venzenulon 7', 'Near-Duplicate Reality', 'Hamster in Butt World', 'Story Train', 'unknown', 'Earth (5-126)', 'Fantasy World', 'Cronenberg Earth', \"Giant's Town\", 'Morty’s Story', 'Purge Planet', 'Hell', 'France', 'Plopstar', 'Elemental Rings', 'Globaflyn', 'Greasy Grandma World', 'Earth (Wasp Dimension)', 'Rick and Two Crows Planet', 'Earth (Fascist Teddy Bear Dimension)', 'Earth (C-137)', 'Merged Universe', 'Earth (C-500A)', 'Planet Squanch', 'Testicle Monster Dimension', 'Earth (J-22)', 'Midland Quasar', 'Slartivart', 'Roy: A Life Well Lived', 'Earth (J19ζ7)', 'Trunk World', 'Gromflom Prime', \"Birdperson's Consciousness\", 'Abadango', 'Anatomy Park', 'Eric Stoltz Mask Earth', 'Gaia', 'Detoxifier', 'Hideout Planet', 'Morglutz', 'Earth (Fascist Shrimp Dimension)', 'Árboles Mentirosos', 'Pluto', 'Bird World', 'Narnia Dimension'}\n"
     ]
    }
   ],
   "source": [
    "\n",
    "#3\n",
    "origenes= set(list(df['Origen']))\n",
    "print('\\nLista de origenes sin duplicados', origenes)"
   ]
  },
  {
   "cell_type": "code",
   "execution_count": null,
   "metadata": {},
   "outputs": [],
   "source": []
  }
 ],
 "metadata": {
  "kernelspec": {
   "display_name": "Python 3 (ipykernel)",
   "language": "python",
   "name": "python3"
  },
  "language_info": {
   "codemirror_mode": {
    "name": "ipython",
    "version": 3
   },
   "file_extension": ".py",
   "mimetype": "text/x-python",
   "name": "python",
   "nbconvert_exporter": "python",
   "pygments_lexer": "ipython3",
   "version": "3.10.3"
  }
 },
 "nbformat": 4,
 "nbformat_minor": 2
}
