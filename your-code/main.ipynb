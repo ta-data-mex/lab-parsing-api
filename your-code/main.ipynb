{
 "cells": [
  {
   "cell_type": "markdown",
   "metadata": {},
   "source": [
    "# Challenge: Rick and Morty API\n",
    "\n",
    "![](http://as01.epimg.net/epik/imagenes/2019/02/12/portada/1549970850_227267_1549973816_noticia_normal.jpg)\n",
    "\n",
    "\n",
    "**In this challenge, you'll develop codes to parse and analyze data returned from the [Rick and Morty API](https://rickandmortyapi.com/).** The workflow is almost the same as in the guided lesson but you'll work with different data."
   ]
  },
  {
   "cell_type": "markdown",
   "metadata": {},
   "source": [
    "## Obtaining the link\n",
    "\n",
    "Wrote your codes in the cell below to obtain the data from the API endpoint you choose. A recap of the workflow:\n",
    "\n",
    "1. Examine the webpages and choose one that you want to work with.\n",
    "\n",
    "1. Use Google Chrome's DevTools to inspect the XHR network requests. Find out the API endpoint that serves data to the webpage.\n",
    "\n",
    "1. Test the API endpoint in the browser to verify its data.\n",
    "\n",
    "1. Change the page number offset of the API URL to test if it's working."
   ]
  },
  {
   "cell_type": "markdown",
   "metadata": {},
   "source": [
    "## Reading the data\n",
    "\n",
    "In the next cell, use Python to obtain data from the API endpoint you chose in the previous step. Workflow:\n",
    "\n",
    "1. Import libraries.\n",
    "\n",
    "1. Define the initial API endpoint URL.\n",
    "\n",
    "1. Make request to obtain data of the 1st page. Flatten the data and store it in an empty object variable.\n",
    "\n",
    "1. Find out the total page count in the 1st page data.\n",
    "\n",
    "1. Use a FOR loop to make requests for the additional pages from 2 to page count. Append the data of each additional page to the flatterned data object.\n",
    "\n",
    "1. Print and review the data you obtained."
   ]
  },
  {
   "cell_type": "code",
   "execution_count": 1,
   "metadata": {},
   "outputs": [],
   "source": [
    "# your code here\n",
    "import requests\n",
    "import json\n",
    "import pandas as pd\n",
    "from pandas.io.json import json_normalize"
   ]
  },
  {
   "cell_type": "code",
   "execution_count": 12,
   "metadata": {},
   "outputs": [],
   "source": [
    "# your code here\n",
    "url='https://rickandmortyapi.com/api/character/'"
   ]
  },
  {
   "cell_type": "code",
   "execution_count": 41,
   "metadata": {},
   "outputs": [
    {
     "name": "stderr",
     "output_type": "stream",
     "text": [
      "<ipython-input-41-f064738c915b>:6: FutureWarning: pandas.io.json.json_normalize is deprecated, use pandas.json_normalize instead\n",
      "  flattened_data = json_normalize(results)\n"
     ]
    },
    {
     "data": {
      "text/plain": [
       "34"
      ]
     },
     "execution_count": 41,
     "metadata": {},
     "output_type": "execute_result"
    }
   ],
   "source": [
    "response = requests.get(url)\n",
    "\n",
    "results = response.json()\n",
    "results\n",
    "\n",
    "flattened_data = json_normalize(results)\n",
    "total_pages = flattened_data['info.pages'][0]\n",
    "total_pages\n"
   ]
  },
  {
   "cell_type": "code",
   "execution_count": 15,
   "metadata": {},
   "outputs": [
    {
     "data": {
      "text/plain": [
       "Index(['results', 'info.count', 'info.pages', 'info.next', 'info.prev'], dtype='object')"
      ]
     },
     "execution_count": 15,
     "metadata": {},
     "output_type": "execute_result"
    }
   ],
   "source": [
    "flattened_data.keys()"
   ]
  },
  {
   "cell_type": "code",
   "execution_count": 37,
   "metadata": {},
   "outputs": [
    {
     "name": "stderr",
     "output_type": "stream",
     "text": [
      "<ipython-input-37-3650dbb8fa08>:7: FutureWarning: pandas.io.json.json_normalize is deprecated, use pandas.json_normalize instead\n",
      "  flattened_data = json_normalize(results)\n",
      "<ipython-input-37-3650dbb8fa08>:8: FutureWarning: pandas.io.json.json_normalize is deprecated, use pandas.json_normalize instead\n",
      "  flattened_data1 = json_normalize(flattened_data.results[0])\n"
     ]
    }
   ],
   "source": [
    "df = pd.DataFrame()\n",
    "\n",
    "for i in range(2, total_pages+1):\n",
    "    url = 'https://rickandmortyapi.com/api/character/?page=%s'\n",
    "    response = requests.get(url % i)\n",
    "    results = response.json()\n",
    "    flattened_data = json_normalize(results)\n",
    "    flattened_data1 = json_normalize(flattened_data.results[0])\n",
    "    df = df.append(flattened_data1)\n"
   ]
  },
  {
   "cell_type": "code",
   "execution_count": 42,
   "metadata": {
    "scrolled": false
   },
   "outputs": [
    {
     "data": {
      "text/html": [
       "<div>\n",
       "<style scoped>\n",
       "    .dataframe tbody tr th:only-of-type {\n",
       "        vertical-align: middle;\n",
       "    }\n",
       "\n",
       "    .dataframe tbody tr th {\n",
       "        vertical-align: top;\n",
       "    }\n",
       "\n",
       "    .dataframe thead th {\n",
       "        text-align: right;\n",
       "    }\n",
       "</style>\n",
       "<table border=\"1\" class=\"dataframe\">\n",
       "  <thead>\n",
       "    <tr style=\"text-align: right;\">\n",
       "      <th></th>\n",
       "      <th>id</th>\n",
       "      <th>name</th>\n",
       "      <th>status</th>\n",
       "      <th>species</th>\n",
       "      <th>type</th>\n",
       "      <th>gender</th>\n",
       "      <th>image</th>\n",
       "      <th>episode</th>\n",
       "      <th>url</th>\n",
       "      <th>created</th>\n",
       "      <th>origin.name</th>\n",
       "      <th>origin.url</th>\n",
       "      <th>location.name</th>\n",
       "      <th>location.url</th>\n",
       "    </tr>\n",
       "  </thead>\n",
       "  <tbody>\n",
       "    <tr>\n",
       "      <th>0</th>\n",
       "      <td>21</td>\n",
       "      <td>Aqua Morty</td>\n",
       "      <td>unknown</td>\n",
       "      <td>Humanoid</td>\n",
       "      <td>Fish-Person</td>\n",
       "      <td>Male</td>\n",
       "      <td>https://rickandmortyapi.com/api/character/avat...</td>\n",
       "      <td>[https://rickandmortyapi.com/api/episode/10, h...</td>\n",
       "      <td>https://rickandmortyapi.com/api/character/21</td>\n",
       "      <td>2017-11-04T22:39:48.055Z</td>\n",
       "      <td>unknown</td>\n",
       "      <td></td>\n",
       "      <td>Citadel of Ricks</td>\n",
       "      <td>https://rickandmortyapi.com/api/location/3</td>\n",
       "    </tr>\n",
       "    <tr>\n",
       "      <th>1</th>\n",
       "      <td>22</td>\n",
       "      <td>Aqua Rick</td>\n",
       "      <td>unknown</td>\n",
       "      <td>Humanoid</td>\n",
       "      <td>Fish-Person</td>\n",
       "      <td>Male</td>\n",
       "      <td>https://rickandmortyapi.com/api/character/avat...</td>\n",
       "      <td>[https://rickandmortyapi.com/api/episode/10, h...</td>\n",
       "      <td>https://rickandmortyapi.com/api/character/22</td>\n",
       "      <td>2017-11-04T22:41:07.171Z</td>\n",
       "      <td>unknown</td>\n",
       "      <td></td>\n",
       "      <td>Citadel of Ricks</td>\n",
       "      <td>https://rickandmortyapi.com/api/location/3</td>\n",
       "    </tr>\n",
       "    <tr>\n",
       "      <th>2</th>\n",
       "      <td>23</td>\n",
       "      <td>Arcade Alien</td>\n",
       "      <td>unknown</td>\n",
       "      <td>Alien</td>\n",
       "      <td></td>\n",
       "      <td>Male</td>\n",
       "      <td>https://rickandmortyapi.com/api/character/avat...</td>\n",
       "      <td>[https://rickandmortyapi.com/api/episode/13, h...</td>\n",
       "      <td>https://rickandmortyapi.com/api/character/23</td>\n",
       "      <td>2017-11-05T08:43:05.095Z</td>\n",
       "      <td>unknown</td>\n",
       "      <td></td>\n",
       "      <td>Immortality Field Resort</td>\n",
       "      <td>https://rickandmortyapi.com/api/location/7</td>\n",
       "    </tr>\n",
       "    <tr>\n",
       "      <th>3</th>\n",
       "      <td>24</td>\n",
       "      <td>Armagheadon</td>\n",
       "      <td>Alive</td>\n",
       "      <td>Alien</td>\n",
       "      <td>Cromulon</td>\n",
       "      <td>Male</td>\n",
       "      <td>https://rickandmortyapi.com/api/character/avat...</td>\n",
       "      <td>[https://rickandmortyapi.com/api/episode/16]</td>\n",
       "      <td>https://rickandmortyapi.com/api/character/24</td>\n",
       "      <td>2017-11-05T08:48:30.776Z</td>\n",
       "      <td>Signus 5 Expanse</td>\n",
       "      <td>https://rickandmortyapi.com/api/location/22</td>\n",
       "      <td>Signus 5 Expanse</td>\n",
       "      <td>https://rickandmortyapi.com/api/location/22</td>\n",
       "    </tr>\n",
       "    <tr>\n",
       "      <th>4</th>\n",
       "      <td>25</td>\n",
       "      <td>Armothy</td>\n",
       "      <td>Dead</td>\n",
       "      <td>unknown</td>\n",
       "      <td>Self-aware arm</td>\n",
       "      <td>Male</td>\n",
       "      <td>https://rickandmortyapi.com/api/character/avat...</td>\n",
       "      <td>[https://rickandmortyapi.com/api/episode/23]</td>\n",
       "      <td>https://rickandmortyapi.com/api/character/25</td>\n",
       "      <td>2017-11-05T08:54:29.343Z</td>\n",
       "      <td>Post-Apocalyptic Earth</td>\n",
       "      <td>https://rickandmortyapi.com/api/location/8</td>\n",
       "      <td>Post-Apocalyptic Earth</td>\n",
       "      <td>https://rickandmortyapi.com/api/location/8</td>\n",
       "    </tr>\n",
       "  </tbody>\n",
       "</table>\n",
       "</div>"
      ],
      "text/plain": [
       "   id          name   status   species            type gender  \\\n",
       "0  21    Aqua Morty  unknown  Humanoid     Fish-Person   Male   \n",
       "1  22     Aqua Rick  unknown  Humanoid     Fish-Person   Male   \n",
       "2  23  Arcade Alien  unknown     Alien                   Male   \n",
       "3  24   Armagheadon    Alive     Alien        Cromulon   Male   \n",
       "4  25       Armothy     Dead   unknown  Self-aware arm   Male   \n",
       "\n",
       "                                               image  \\\n",
       "0  https://rickandmortyapi.com/api/character/avat...   \n",
       "1  https://rickandmortyapi.com/api/character/avat...   \n",
       "2  https://rickandmortyapi.com/api/character/avat...   \n",
       "3  https://rickandmortyapi.com/api/character/avat...   \n",
       "4  https://rickandmortyapi.com/api/character/avat...   \n",
       "\n",
       "                                             episode  \\\n",
       "0  [https://rickandmortyapi.com/api/episode/10, h...   \n",
       "1  [https://rickandmortyapi.com/api/episode/10, h...   \n",
       "2  [https://rickandmortyapi.com/api/episode/13, h...   \n",
       "3       [https://rickandmortyapi.com/api/episode/16]   \n",
       "4       [https://rickandmortyapi.com/api/episode/23]   \n",
       "\n",
       "                                            url                   created  \\\n",
       "0  https://rickandmortyapi.com/api/character/21  2017-11-04T22:39:48.055Z   \n",
       "1  https://rickandmortyapi.com/api/character/22  2017-11-04T22:41:07.171Z   \n",
       "2  https://rickandmortyapi.com/api/character/23  2017-11-05T08:43:05.095Z   \n",
       "3  https://rickandmortyapi.com/api/character/24  2017-11-05T08:48:30.776Z   \n",
       "4  https://rickandmortyapi.com/api/character/25  2017-11-05T08:54:29.343Z   \n",
       "\n",
       "              origin.name                                   origin.url  \\\n",
       "0                 unknown                                                \n",
       "1                 unknown                                                \n",
       "2                 unknown                                                \n",
       "3        Signus 5 Expanse  https://rickandmortyapi.com/api/location/22   \n",
       "4  Post-Apocalyptic Earth   https://rickandmortyapi.com/api/location/8   \n",
       "\n",
       "              location.name                                 location.url  \n",
       "0          Citadel of Ricks   https://rickandmortyapi.com/api/location/3  \n",
       "1          Citadel of Ricks   https://rickandmortyapi.com/api/location/3  \n",
       "2  Immortality Field Resort   https://rickandmortyapi.com/api/location/7  \n",
       "3          Signus 5 Expanse  https://rickandmortyapi.com/api/location/22  \n",
       "4    Post-Apocalyptic Earth   https://rickandmortyapi.com/api/location/8  "
      ]
     },
     "execution_count": 42,
     "metadata": {},
     "output_type": "execute_result"
    }
   ],
   "source": [
    "df.head()"
   ]
  },
  {
   "cell_type": "markdown",
   "metadata": {},
   "source": [
    "## Bonus\n",
    "\n",
    "Extract the following information from the data:\n",
    "\n",
    "* The character who appeared in most episodes (aside from Rick and Morty, of course!).\n",
    "\n",
    "* The total number of dead characters.\n",
    "\n",
    "* A list of all character origins (without duplicates)."
   ]
  },
  {
   "cell_type": "code",
   "execution_count": 44,
   "metadata": {},
   "outputs": [
    {
     "data": {
      "text/plain": [
       "Alive      379\n",
       "Dead       198\n",
       "unknown     74\n",
       "Name: status, dtype: int64"
      ]
     },
     "execution_count": 44,
     "metadata": {},
     "output_type": "execute_result"
    }
   ],
   "source": [
    "# your code here\n",
    "df['status'].value_counts()"
   ]
  },
  {
   "cell_type": "code",
   "execution_count": 52,
   "metadata": {},
   "outputs": [
    {
     "data": {
      "text/plain": [
       "array(['unknown', 'Signus 5 Expanse', 'Post-Apocalyptic Earth',\n",
       "       'Purge Planet', 'Venzenulon 7', 'Bepis 9', 'Earth (C-500A)',\n",
       "       'Earth (C-137)', \"Earth (Evil Rick's Target Dimension)\",\n",
       "       'Nuptia 4', 'Fantasy World', 'Earth (Replacement Dimension)',\n",
       "       'Bird World', 'Gromflom Prime', \"Rick's Battery Microverse\",\n",
       "       'The Menagerie', 'Earth (K-83)', 'Hideout Planet',\n",
       "       'Cronenberg Earth', \"Giant's Town\", \"Unity's Planet\",\n",
       "       'Earth (Unknown dimension)', 'Anatomy Park', 'Earth (J19ζ7)',\n",
       "       'Roy: A Life Well Lived', 'Eric Stoltz Mask Earth', 'Glaagablaaga',\n",
       "       'Gazorpazorp', 'Resort Planet', 'Hamster in Butt World',\n",
       "       'Earth (Giant Telepathic Spiders Dimension)', 'Alphabetrium',\n",
       "       'Earth (5-126)', 'Krootabulon', 'Pluto',\n",
       "       \"Zeep Xanflorp's Miniverse\", \"Larva Alien's Planet\",\n",
       "       \"Mr. Goldenfold's dream\", 'Earth (K-22)', 'Mr. Meeseeks Box',\n",
       "       'Mega Gargantuan Kingdom', 'Gear World', 'Earth (D-99)',\n",
       "       'Earth (D716)', 'Earth (D716-B)', 'Earth (D716-C)', 'Earth (J-22)',\n",
       "       'Planet Squanch', 'Detoxifier', \"Kyle's Teenyverse\", 'Trunk World',\n",
       "       'Plopstar', 'Girvonesk', \"Snuffles' Dream\",\n",
       "       'Interdimensional Cable', 'Earth (Phone Dimension)',\n",
       "       'Earth (Pizza Dimension)', 'Greasy Grandma World',\n",
       "       'Earth (Chair Dimension)', 'Testicle Monster Dimension',\n",
       "       'Árboles Mentirosos', 'Citadel of Ricks',\n",
       "       'Earth (Fascist Dimension)', 'Earth (Fascist Shrimp Dimension)',\n",
       "       'Earth (Fascist Teddy Bear Dimension)', 'Earth (Wasp Dimension)',\n",
       "       'Midland Quasar', 'Globaflyn', 'Mount Olympus',\n",
       "       'Plitzville Montana', 'Earth (Tusk Dimension)', 'Gramuflack',\n",
       "       'Draygon', 'Snake Planet', 'Story Train',\n",
       "       'Tickets Please Guy Nightmare', 'Morty’s Story', 'Ricks’s Story',\n",
       "       'Glorzo Asteroid', 'Merged Universe', 'Near-Duplicate Reality',\n",
       "       'Gaia'], dtype=object)"
      ]
     },
     "execution_count": 52,
     "metadata": {},
     "output_type": "execute_result"
    }
   ],
   "source": [
    "df['origin.name'].unique()"
   ]
  },
  {
   "cell_type": "code",
   "execution_count": null,
   "metadata": {
    "scrolled": false
   },
   "outputs": [],
   "source": []
  },
  {
   "cell_type": "code",
   "execution_count": null,
   "metadata": {},
   "outputs": [],
   "source": []
  }
 ],
 "metadata": {
  "kernelspec": {
   "display_name": "Python 3",
   "language": "python",
   "name": "python3"
  },
  "language_info": {
   "codemirror_mode": {
    "name": "ipython",
    "version": 3
   },
   "file_extension": ".py",
   "mimetype": "text/x-python",
   "name": "python",
   "nbconvert_exporter": "python",
   "pygments_lexer": "ipython3",
   "version": "3.8.8"
  }
 },
 "nbformat": 4,
 "nbformat_minor": 2
}
