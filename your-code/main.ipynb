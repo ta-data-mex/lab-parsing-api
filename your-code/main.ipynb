{
 "cells": [
  {
   "cell_type": "markdown",
   "metadata": {},
   "source": [
    "# Challenge: Rick and Morty API\n",
    "\n",
    "![](http://as01.epimg.net/epik/imagenes/2019/02/12/portada/1549970850_227267_1549973816_noticia_normal.jpg)\n",
    "\n",
    "\n",
    "**In this challenge, you'll develop codes to parse and analyze data returned from the [Rick and Morty API](https://rickandmortyapi.com/).** The workflow is almost the same as in the guided lesson but you'll work with different data."
   ]
  },
  {
   "cell_type": "markdown",
   "metadata": {},
   "source": [
    "## Obtaining the link\n",
    "\n",
    "Wrote your codes in the cell below to obtain the data from the API endpoint you choose. A recap of the workflow:\n",
    "\n",
    "1. Examine the webpages and choose one that you want to work with.\n",
    "\n",
    "1. Use Google Chrome's DevTools to inspect the XHR network requests. Find out the API endpoint that serves data to the webpage.\n",
    "\n",
    "1. Test the API endpoint in the browser to verify its data.\n",
    "\n",
    "1. Change the page number offset of the API URL to test if it's working."
   ]
  },
  {
   "cell_type": "code",
   "execution_count": 1,
   "metadata": {},
   "outputs": [
    {
     "name": "stdout",
     "output_type": "stream",
     "text": [
      "200\n"
     ]
    },
    {
     "data": {
      "text/plain": [
       "{'id': 2,\n",
       " 'name': 'Morty Smith',\n",
       " 'status': 'Alive',\n",
       " 'species': 'Human',\n",
       " 'type': '',\n",
       " 'gender': 'Male',\n",
       " 'origin': {'name': 'unknown', 'url': ''},\n",
       " 'location': {'name': 'Citadel of Ricks',\n",
       "  'url': 'https://rickandmortyapi.com/api/location/3'},\n",
       " 'image': 'https://rickandmortyapi.com/api/character/avatar/2.jpeg',\n",
       " 'episode': ['https://rickandmortyapi.com/api/episode/1',\n",
       "  'https://rickandmortyapi.com/api/episode/2',\n",
       "  'https://rickandmortyapi.com/api/episode/3',\n",
       "  'https://rickandmortyapi.com/api/episode/4',\n",
       "  'https://rickandmortyapi.com/api/episode/5',\n",
       "  'https://rickandmortyapi.com/api/episode/6',\n",
       "  'https://rickandmortyapi.com/api/episode/7',\n",
       "  'https://rickandmortyapi.com/api/episode/8',\n",
       "  'https://rickandmortyapi.com/api/episode/9',\n",
       "  'https://rickandmortyapi.com/api/episode/10',\n",
       "  'https://rickandmortyapi.com/api/episode/11',\n",
       "  'https://rickandmortyapi.com/api/episode/12',\n",
       "  'https://rickandmortyapi.com/api/episode/13',\n",
       "  'https://rickandmortyapi.com/api/episode/14',\n",
       "  'https://rickandmortyapi.com/api/episode/15',\n",
       "  'https://rickandmortyapi.com/api/episode/16',\n",
       "  'https://rickandmortyapi.com/api/episode/17',\n",
       "  'https://rickandmortyapi.com/api/episode/18',\n",
       "  'https://rickandmortyapi.com/api/episode/19',\n",
       "  'https://rickandmortyapi.com/api/episode/20',\n",
       "  'https://rickandmortyapi.com/api/episode/21',\n",
       "  'https://rickandmortyapi.com/api/episode/22',\n",
       "  'https://rickandmortyapi.com/api/episode/23',\n",
       "  'https://rickandmortyapi.com/api/episode/24',\n",
       "  'https://rickandmortyapi.com/api/episode/25',\n",
       "  'https://rickandmortyapi.com/api/episode/26',\n",
       "  'https://rickandmortyapi.com/api/episode/27',\n",
       "  'https://rickandmortyapi.com/api/episode/28',\n",
       "  'https://rickandmortyapi.com/api/episode/29',\n",
       "  'https://rickandmortyapi.com/api/episode/30',\n",
       "  'https://rickandmortyapi.com/api/episode/31',\n",
       "  'https://rickandmortyapi.com/api/episode/32',\n",
       "  'https://rickandmortyapi.com/api/episode/33',\n",
       "  'https://rickandmortyapi.com/api/episode/34',\n",
       "  'https://rickandmortyapi.com/api/episode/35',\n",
       "  'https://rickandmortyapi.com/api/episode/36',\n",
       "  'https://rickandmortyapi.com/api/episode/37',\n",
       "  'https://rickandmortyapi.com/api/episode/38',\n",
       "  'https://rickandmortyapi.com/api/episode/39',\n",
       "  'https://rickandmortyapi.com/api/episode/40',\n",
       "  'https://rickandmortyapi.com/api/episode/41',\n",
       "  'https://rickandmortyapi.com/api/episode/42',\n",
       "  'https://rickandmortyapi.com/api/episode/43',\n",
       "  'https://rickandmortyapi.com/api/episode/44',\n",
       "  'https://rickandmortyapi.com/api/episode/45',\n",
       "  'https://rickandmortyapi.com/api/episode/46',\n",
       "  'https://rickandmortyapi.com/api/episode/47',\n",
       "  'https://rickandmortyapi.com/api/episode/48',\n",
       "  'https://rickandmortyapi.com/api/episode/49',\n",
       "  'https://rickandmortyapi.com/api/episode/50',\n",
       "  'https://rickandmortyapi.com/api/episode/51'],\n",
       " 'url': 'https://rickandmortyapi.com/api/character/2',\n",
       " 'created': '2017-11-04T18:50:21.651Z'}"
      ]
     },
     "execution_count": 1,
     "metadata": {},
     "output_type": "execute_result"
    }
   ],
   "source": [
    "# your code here\n",
    "import requests\n",
    "import time\n",
    "\n",
    "import pandas as pd\n",
    "\n",
    "url =' https://rickandmortyapi.com/api/character/2'\n",
    "res = requests.get(url)\n",
    "\n",
    "print(res.status_code)\n",
    "res.json()"
   ]
  },
  {
   "cell_type": "markdown",
   "metadata": {},
   "source": [
    "## Reading the data\n",
    "\n",
    "In the next cell, use Python to obtain data from the API endpoint you chose in the previous step. Workflow:\n",
    "\n",
    "1. Import libraries.\n",
    "\n",
    "1. Define the initial API endpoint URL.\n",
    "\n",
    "1. Make request to obtain data of the 1st page. Flatten the data and store it in an empty object variable.\n",
    "\n",
    "1. Find out the total page count in the 1st page data.\n",
    "\n",
    "1. Use a FOR loop to make requests for the additional pages from 2 to page count. Append the data of each additional page to the flatterned data object.\n",
    "\n",
    "1. Print and review the data you obtained."
   ]
  },
  {
   "cell_type": "code",
   "execution_count": 2,
   "metadata": {},
   "outputs": [],
   "source": [
    "# your code here\n",
    "import requests\n",
    "import time\n",
    "\n",
    "import pandas as pd\n",
    "\n",
    "\n",
    "url ='https://rickandmortyapi.com/api/character/?page=%s'\n",
    "res = requests.get(url%1)\n",
    "\n",
    "# print(res.status_code)\n",
    "\n",
    "res_json = res.json()\n",
    "page_results = [data for data in res_json['results']]\n",
    "\n",
    "for page in range(2,43):\n",
    "    res = requests.get(url%page)\n",
    "    res_json = res.json()['results']\n",
    "    for num_chars in res_json:\n",
    "        page_results.append(num_chars)\n",
    "    \n"
   ]
  },
  {
   "cell_type": "code",
   "execution_count": 127,
   "metadata": {},
   "outputs": [
    {
     "name": "stdout",
     "output_type": "stream",
     "text": [
      "826\n"
     ]
    },
    {
     "data": {
      "text/plain": [
       "{'id': 4,\n",
       " 'name': 'Beth Smith',\n",
       " 'status': 'Alive',\n",
       " 'species': 'Human',\n",
       " 'type': '',\n",
       " 'gender': 'Female',\n",
       " 'origin': {'name': 'Earth (Replacement Dimension)',\n",
       "  'url': 'https://rickandmortyapi.com/api/location/20'},\n",
       " 'location': {'name': 'Earth (Replacement Dimension)',\n",
       "  'url': 'https://rickandmortyapi.com/api/location/20'},\n",
       " 'image': 'https://rickandmortyapi.com/api/character/avatar/4.jpeg',\n",
       " 'episode': ['https://rickandmortyapi.com/api/episode/6',\n",
       "  'https://rickandmortyapi.com/api/episode/7',\n",
       "  'https://rickandmortyapi.com/api/episode/8',\n",
       "  'https://rickandmortyapi.com/api/episode/9',\n",
       "  'https://rickandmortyapi.com/api/episode/10',\n",
       "  'https://rickandmortyapi.com/api/episode/11',\n",
       "  'https://rickandmortyapi.com/api/episode/12',\n",
       "  'https://rickandmortyapi.com/api/episode/14',\n",
       "  'https://rickandmortyapi.com/api/episode/15',\n",
       "  'https://rickandmortyapi.com/api/episode/16',\n",
       "  'https://rickandmortyapi.com/api/episode/18',\n",
       "  'https://rickandmortyapi.com/api/episode/19',\n",
       "  'https://rickandmortyapi.com/api/episode/20',\n",
       "  'https://rickandmortyapi.com/api/episode/21',\n",
       "  'https://rickandmortyapi.com/api/episode/22',\n",
       "  'https://rickandmortyapi.com/api/episode/23',\n",
       "  'https://rickandmortyapi.com/api/episode/24',\n",
       "  'https://rickandmortyapi.com/api/episode/25',\n",
       "  'https://rickandmortyapi.com/api/episode/26',\n",
       "  'https://rickandmortyapi.com/api/episode/27',\n",
       "  'https://rickandmortyapi.com/api/episode/28',\n",
       "  'https://rickandmortyapi.com/api/episode/29',\n",
       "  'https://rickandmortyapi.com/api/episode/30',\n",
       "  'https://rickandmortyapi.com/api/episode/31',\n",
       "  'https://rickandmortyapi.com/api/episode/32',\n",
       "  'https://rickandmortyapi.com/api/episode/33',\n",
       "  'https://rickandmortyapi.com/api/episode/34',\n",
       "  'https://rickandmortyapi.com/api/episode/35',\n",
       "  'https://rickandmortyapi.com/api/episode/36',\n",
       "  'https://rickandmortyapi.com/api/episode/38',\n",
       "  'https://rickandmortyapi.com/api/episode/39',\n",
       "  'https://rickandmortyapi.com/api/episode/40',\n",
       "  'https://rickandmortyapi.com/api/episode/41',\n",
       "  'https://rickandmortyapi.com/api/episode/42',\n",
       "  'https://rickandmortyapi.com/api/episode/43',\n",
       "  'https://rickandmortyapi.com/api/episode/44',\n",
       "  'https://rickandmortyapi.com/api/episode/45',\n",
       "  'https://rickandmortyapi.com/api/episode/46',\n",
       "  'https://rickandmortyapi.com/api/episode/47',\n",
       "  'https://rickandmortyapi.com/api/episode/48',\n",
       "  'https://rickandmortyapi.com/api/episode/49',\n",
       "  'https://rickandmortyapi.com/api/episode/51'],\n",
       " 'url': 'https://rickandmortyapi.com/api/character/4',\n",
       " 'created': '2017-11-04T19:22:43.665Z'}"
      ]
     },
     "execution_count": 127,
     "metadata": {},
     "output_type": "execute_result"
    }
   ],
   "source": [
    "print(len(page_results))\n",
    "page_results[3]"
   ]
  },
  {
   "cell_type": "markdown",
   "metadata": {},
   "source": [
    "## Bonus\n",
    "\n",
    "Extract the following information from the data:\n",
    "\n",
    "* The character who appeared in most episodes (aside from Rick and Morty, of course!).\n",
    "\n",
    "* The total number of dead characters.\n",
    "\n",
    "* A list of all character origins (without duplicates)."
   ]
  },
  {
   "cell_type": "code",
   "execution_count": 145,
   "metadata": {},
   "outputs": [
    {
     "name": "stdout",
     "output_type": "stream",
     "text": [
      "Summer Smith\n",
      "287\n",
      "{'Earth (D716-C)', 'Hideout Planet', 'Earth (5-126)', \"Mr. Goldenfold's dream\", 'Greasy Grandma World', 'France', \"Rick's Battery Microverse\", 'Testicle Monster Dimension', 'Gramuflack', 'Space Tahoe', 'Earth (K-83)', 'The Menagerie', 'Earth (D716)', 'Earth (Fascist Dimension)', 'Earth (Chair Dimension)', \"Zeep Xanflorp's Miniverse\", 'Nuptia 4', 'Draygon', 'Gaia', 'Narnia Dimension', 'Rick and Two Crows Planet', 'Earth (Unknown dimension)', 'Earth (Wasp Dimension)', 'Plitzville Montana', 'Árboles Mentirosos', 'Trunk World', 'Tickets Please Guy Nightmare', 'Story Train', 'Elemental Rings', 'Earth (D716-B)', 'Earth (Fascist Teddy Bear Dimension)', 'Snake Planet', 'Glorzo Asteroid', \"Giant's Town\", 'Hell', 'Near-Duplicate Reality', 'Globaflyn', 'Earth (C-137)', 'Roy: A Life Well Lived', 'Earth (D-99)', 'Resort Planet', 'Venzenulon 7', \"Kyle's Teenyverse\", 'Morty’s Story', \"Snuffles' Dream\", 'Earth (Replacement Dimension)', \"Unity's Planet\", \"Larva Alien's Planet\", 'Earth (K-22)', 'Pluto', 'Earth (Tusk Dimension)', 'Signus 5 Expanse', 'Girvonesk', 'Mr. Meeseeks Box', 'Bepis 9', 'Merged Universe', 'Purge Planet', 'Midland Quasar', 'Slartivart', 'Earth (J19ζ7)', 'Interdimensional Cable', 'Morty', 'Earth (Giant Telepathic Spiders Dimension)', 'Post-Apocalyptic Earth', 'Gear World', 'Bird World', 'Cronenberg Earth', 'Hamster in Butt World', 'Planet Squanch', 'Mega Gargantuan Kingdom', 'Gazorpazorp', 'Earth (Phone Dimension)', 'Glaagablaaga', 'Earth (J-22)', 'Avian Planet', 'Citadel of Ricks', 'The Ocean', 'Anatomy Park', 'Ricks’s Story', 'Krootabulon', \"Birdperson's Consciousness\", 'Gromflom Prime', 'Earth (C-500A)', 'unknown', 'Mount Olympus', 'Detoxifier', 'Alphabetrium', 'Plopstar', 'Earth (Fascist Shrimp Dimension)', 'Ferkus 9', 'Earth (Pizza Dimension)', 'Fantasy World', 'Abadango', 'Normal Size Bug Dimension', 'Eric Stoltz Mask Earth', \"Earth (Evil Rick's Target Dimension)\", 'Morglutz'}\n"
     ]
    }
   ],
   "source": [
    "# your code here\n",
    "characters_in_episodes = list(filter(lambda character: character['name'] != \"Rick Sanchez\" and character[\"name\"]!=\"Morty Smith\", page_results))\n",
    "characters_in_episodes = [[character[\"name\"],len(character['episode'])] for character in characters_in_episodes]\n",
    "filtered_characters = {}\n",
    "\n",
    "for char in characters_in_episodes:\n",
    "    if char[0] not in filtered_characters:\n",
    "        filtered_characters[char[0]] = char[1]\n",
    "    else:\n",
    "        if char[1] > filtered_characters[char[0]]:\n",
    "            filtered_characters[char[0]] = char[1]\n",
    "print(max(filtered_characters, key=filtered_characters.get))\n",
    "dead_characters = len(list(filter(lambda character: character[\"status\"] == \"Dead\", page_results )))\n",
    "print(dead_characters)\n",
    "\n",
    "origins = set([char[\"origin\"][\"name\"] for char in page_results])\n",
    "print(origins)"
   ]
  },
  {
   "cell_type": "code",
   "execution_count": null,
   "metadata": {},
   "outputs": [],
   "source": []
  }
 ],
 "metadata": {
  "kernelspec": {
   "display_name": "Python 3 (ipykernel)",
   "language": "python",
   "name": "python3"
  },
  "language_info": {
   "codemirror_mode": {
    "name": "ipython",
    "version": 3
   },
   "file_extension": ".py",
   "mimetype": "text/x-python",
   "name": "python",
   "nbconvert_exporter": "python",
   "pygments_lexer": "ipython3",
   "version": "3.8.9"
  }
 },
 "nbformat": 4,
 "nbformat_minor": 2
}
